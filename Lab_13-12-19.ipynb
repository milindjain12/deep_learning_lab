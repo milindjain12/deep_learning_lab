{
 "cells": [
  {
   "cell_type": "markdown",
   "metadata": {},
   "source": [
    "<p><b>Help(?)</b></p>\n",
    "<p>methodname? - can be used to see how to use the particular function by showing the documentation provided in python for that function</p>"
   ]
  },
  {
   "cell_type": "code",
   "execution_count": 2,
   "metadata": {},
   "outputs": [],
   "source": [
    "range?"
   ]
  },
  {
   "cell_type": "markdown",
   "metadata": {},
   "source": [
    "<p><b>Range</b></p>\n",
    "<ul>\n",
    "    <li>Range is a pre-defined function which is used to find the range between two given integers</li>\n",
    "    <li>Range is used to iterate using various loops.\n",
    "    <li>Range is defined by <b>range(n,m)</b> where it is inclusive of n and exclusive of m</li>\n",
    "    <li>Range method can also take a step size to increment using signature <b>range(n,m,s)</b> where s is step size.\n",
    "        For example - range(0,11,2)</li>\n",
    "</ul>"
   ]
  },
  {
   "cell_type": "code",
   "execution_count": 6,
   "metadata": {},
   "outputs": [
    {
     "data": {
      "text/plain": [
       "range(0, 10)"
      ]
     },
     "execution_count": 6,
     "metadata": {},
     "output_type": "execute_result"
    }
   ],
   "source": [
    "range(10)"
   ]
  },
  {
   "cell_type": "code",
   "execution_count": 8,
   "metadata": {},
   "outputs": [
    {
     "name": "stdout",
     "output_type": "stream",
     "text": [
      "0\n",
      "1\n",
      "2\n",
      "3\n",
      "4\n",
      "5\n",
      "6\n",
      "7\n",
      "8\n",
      "9\n"
     ]
    }
   ],
   "source": [
    "for i in range(10):\n",
    "    print(i)"
   ]
  },
  {
   "cell_type": "code",
   "execution_count": 10,
   "metadata": {},
   "outputs": [
    {
     "name": "stdout",
     "output_type": "stream",
     "text": [
      "Today is a good day\n",
      "Today is a good day\n",
      "Today is a good day\n",
      "Today is a good day\n",
      "Today is a good day\n"
     ]
    }
   ],
   "source": [
    "for i in range(5):\n",
    "    print(\"Today is a good day\")"
   ]
  },
  {
   "cell_type": "markdown",
   "metadata": {},
   "source": [
    "<p><b>** operator</b></p>\n",
    "<p>This operator is used to find the power of some integer i</p>\n",
    "<p>math.pow(a,b) can also be used from math library provided in python which returns a float value</p>"
   ]
  },
  {
   "cell_type": "code",
   "execution_count": 12,
   "metadata": {},
   "outputs": [
    {
     "name": "stdout",
     "output_type": "stream",
     "text": [
      "1\n",
      "8\n",
      "27\n",
      "64\n",
      "125\n",
      "216\n",
      "343\n",
      "512\n",
      "729\n",
      "1000\n"
     ]
    }
   ],
   "source": [
    "for i in range(1,11):\n",
    "    print(i**3)"
   ]
  },
  {
   "cell_type": "code",
   "execution_count": 14,
   "metadata": {},
   "outputs": [
    {
     "name": "stdout",
     "output_type": "stream",
     "text": [
      "1\n",
      "8\n",
      "27\n",
      "64\n",
      "125\n",
      "216\n",
      "343\n",
      "512\n",
      "729\n",
      "1000\n"
     ]
    }
   ],
   "source": [
    "i=1\n",
    "while i<11:\n",
    "    print(i**3)\n",
    "    i = i+1"
   ]
  },
  {
   "cell_type": "code",
   "execution_count": 16,
   "metadata": {},
   "outputs": [
    {
     "name": "stdout",
     "output_type": "stream",
     "text": [
      "0\n",
      "2\n",
      "4\n",
      "6\n",
      "8\n",
      "10\n"
     ]
    }
   ],
   "source": [
    "for i in range(0,11,2):\n",
    "    print(i)"
   ]
  },
  {
   "cell_type": "markdown",
   "metadata": {},
   "source": [
    "<p><b>time library</b></p>\n",
    "<ul>\n",
    "    <li>time library can be used to find the time using the time() method</li>\n",
    "    <li><b>import</b> keyword can be used to import a library</li>\n",
    "</ul>"
   ]
  },
  {
   "cell_type": "code",
   "execution_count": 22,
   "metadata": {},
   "outputs": [
    {
     "name": "stdout",
     "output_type": "stream",
     "text": [
      "1\n",
      "8\n",
      "27\n",
      "64\n",
      "125\n",
      "216\n",
      "343\n",
      "512\n",
      "729\n",
      "1000\n",
      "Time taken by for loop is: 0.0\n",
      "1\n",
      "8\n",
      "27\n",
      "64\n",
      "125\n",
      "216\n",
      "343\n",
      "512\n",
      "729\n",
      "1000\n",
      "Time taken by while loop is: 0.0010528564453125\n"
     ]
    }
   ],
   "source": [
    "import time\n",
    "\n",
    "start_time_for_loop = time.time()\n",
    "for i in range(1,11):\n",
    "    print(i**3)\n",
    "\n",
    "end_time_for_loop = time.time()\n",
    "diff_for_loop = end_time_for_loop - start_time_for_loop\n",
    "\n",
    "print(f\"Time taken by for loop is: {diff_for_loop}\")\n",
    "\n",
    "start_time_while_loop = time.time()\n",
    "i=1\n",
    "while i<11:\n",
    "    print(i**3)\n",
    "    i = i+1\n",
    "\n",
    "end_time_while_loop = time.time()\n",
    "diff_while_loop = end_time_while_loop - start_time_while_loop\n",
    "\n",
    "print(f\"Time taken by while loop is: {diff_while_loop}\")"
   ]
  },
  {
   "cell_type": "markdown",
   "metadata": {},
   "source": [
    "<p>Observation</p>\n",
    "<p>Above code tells us loop with range() method is faster than normal iteration</p>"
   ]
  },
  {
   "cell_type": "markdown",
   "metadata": {},
   "source": [
    "<p><b>def - Keyword</b></p>\n",
    "<ul>\n",
    "    <li>def key word is used to define a function in python</li>\n",
    "    <li>colon is used to start the definitions of logic in a function</li>\n",
    "</ul>\n",
    "\n",
    "<p><b>return - keyword</b></p>\n",
    "<ul>\n",
    "    <li>return keyword is used to return a value to place where function is called</li>\n",
    "</ul>"
   ]
  },
  {
   "cell_type": "code",
   "execution_count": 27,
   "metadata": {},
   "outputs": [
    {
     "name": "stdout",
     "output_type": "stream",
     "text": [
      "[1, 8, 27, 64, 125, 216, 343, 512, 729, 1000]\n"
     ]
    }
   ],
   "source": [
    "def myCubicFun(n):\n",
    "    list = []\n",
    "    for i in range(1,n): \n",
    "        list.append(i**3)\n",
    "    return list\n",
    "\n",
    "c = myCubicFun(11)\n",
    "print(c)"
   ]
  },
  {
   "cell_type": "markdown",
   "metadata": {},
   "source": [
    "<p><b>math library</b></p>\n",
    "<ul>\n",
    "    <li>math library can be used to do some math operations</li>\n",
    "    <li>Below are some of the method provided by math library</li>\n",
    "    <ul>\n",
    "        <li>sqrt()</li>\n",
    "        <li>pow()</li>\n",
    "        <li>ciel()</li>\n",
    "        <li>floor()</li>\n",
    "        <li>factorial()</li>\n",
    "        <li>gcd()</li>\n",
    "        <li>log2()</li>\n",
    "    </ul>\n",
    "</ul>"
   ]
  },
  {
   "cell_type": "code",
   "execution_count": 2,
   "metadata": {},
   "outputs": [
    {
     "name": "stdout",
     "output_type": "stream",
     "text": [
      "Square Root is: 8.0\n",
      "Ceil Function: 5\n",
      "Factorial: 3628800\n",
      "GCD of two no.s: 4\n",
      "Log base 2: 6.0\n"
     ]
    }
   ],
   "source": [
    "import math as m\n",
    "print(f\"Square Root is: {m.sqrt(64)}\")\n",
    "print(f\"Ceil Function: {m.ceil(4.67)}\")\n",
    "print(f\"Factorial: {m.factorial(10)}\")\n",
    "print(f\"GCD of two no.s: {m.gcd(12,20)}\")\n",
    "print(f\"Log base 2: {m.log2(64)}\")"
   ]
  },
  {
   "cell_type": "markdown",
   "metadata": {},
   "source": [
    "<p><b>Important Note:</b></p>\n",
    "<p>Once we close anaconda or shutdown the jupyter notebook, we need to re-run whole code from the starting cell since all previous compilation is removed after shutdown otherwise it will throw error while trying to run below cells which is using variables and libraries declared and imported in above cells.</p>\n",
    "<p>Below is the example:</p>"
   ]
  },
  {
   "cell_type": "code",
   "execution_count": 33,
   "metadata": {},
   "outputs": [],
   "source": [
    "## importing math lib in different cell\n",
    "import math as m"
   ]
  },
  {
   "cell_type": "code",
   "execution_count": 1,
   "metadata": {},
   "outputs": [
    {
     "ename": "NameError",
     "evalue": "name 'm' is not defined",
     "output_type": "error",
     "traceback": [
      "\u001b[1;31m---------------------------------------------------------------------------\u001b[0m",
      "\u001b[1;31mNameError\u001b[0m                                 Traceback (most recent call last)",
      "\u001b[1;32m<ipython-input-1-3a26dc4b7e10>\u001b[0m in \u001b[0;36m<module>\u001b[1;34m\u001b[0m\n\u001b[1;32m----> 1\u001b[1;33m \u001b[0mprint\u001b[0m\u001b[1;33m(\u001b[0m\u001b[1;34mf\"Square Root is: {m.sqrt(64)}\"\u001b[0m\u001b[1;33m)\u001b[0m\u001b[1;33m\u001b[0m\u001b[1;33m\u001b[0m\u001b[0m\n\u001b[0m\u001b[0;32m      2\u001b[0m \u001b[0mprint\u001b[0m\u001b[1;33m(\u001b[0m\u001b[1;34mf\"Ceil Function: {m.ceil(4.67)}\"\u001b[0m\u001b[1;33m)\u001b[0m\u001b[1;33m\u001b[0m\u001b[1;33m\u001b[0m\u001b[0m\n\u001b[0;32m      3\u001b[0m \u001b[0mprint\u001b[0m\u001b[1;33m(\u001b[0m\u001b[1;34mf\"Factorial: {m.factorial(10)}\"\u001b[0m\u001b[1;33m)\u001b[0m\u001b[1;33m\u001b[0m\u001b[1;33m\u001b[0m\u001b[0m\n\u001b[0;32m      4\u001b[0m \u001b[0mprint\u001b[0m\u001b[1;33m(\u001b[0m\u001b[1;34mf\"GCD of two no.s: {m.gcd(12,20)}\"\u001b[0m\u001b[1;33m)\u001b[0m\u001b[1;33m\u001b[0m\u001b[1;33m\u001b[0m\u001b[0m\n\u001b[0;32m      5\u001b[0m \u001b[0mprint\u001b[0m\u001b[1;33m(\u001b[0m\u001b[1;34mf\"Log base 2: {m.log2(64)}\"\u001b[0m\u001b[1;33m)\u001b[0m\u001b[1;33m\u001b[0m\u001b[1;33m\u001b[0m\u001b[0m\n",
      "\u001b[1;31mNameError\u001b[0m: name 'm' is not defined"
     ]
    }
   ],
   "source": [
    "## getting error after shutting down notebook as m is undefined as we didn't run above cell after restarting notebook\n",
    "print(f\"Square Root is: {m.sqrt(64)}\")\n",
    "print(f\"Ceil Function: {m.ceil(4.67)}\")\n",
    "print(f\"Factorial: {m.factorial(10)}\")\n",
    "print(f\"GCD of two no.s: {m.gcd(12,20)}\")\n",
    "print(f\"Log base 2: {m.log2(64)}\")"
   ]
  },
  {
   "cell_type": "markdown",
   "metadata": {},
   "source": [
    "<p><b>default value</b></p>\n",
    "<p>default value of an argument can be given using below syntax:</p>\n",
    "<p><b>def functionName(arg = defaultvalue)</b></p>\n",
    "<p>default value is useful when no value is passed in arguments when function is called</p>"
   ]
  },
  {
   "cell_type": "code",
   "execution_count": 3,
   "metadata": {},
   "outputs": [
    {
     "name": "stdout",
     "output_type": "stream",
     "text": [
      "[1]\n"
     ]
    }
   ],
   "source": [
    "# explore how to define default value for a function\n",
    "def myCubicFunWithDefault(n=2):\n",
    "    list = []\n",
    "    for i in range(1,n): \n",
    "        list.append(i**3)\n",
    "    return list\n",
    "\n",
    "c = myCubicFunWithDefault()\n",
    "print(c)"
   ]
  }
 ],
 "metadata": {
  "kernelspec": {
   "display_name": "Python 3",
   "language": "python",
   "name": "python3"
  },
  "language_info": {
   "codemirror_mode": {
    "name": "ipython",
    "version": 3
   },
   "file_extension": ".py",
   "mimetype": "text/x-python",
   "name": "python",
   "nbconvert_exporter": "python",
   "pygments_lexer": "ipython3",
   "version": "3.7.3"
  }
 },
 "nbformat": 4,
 "nbformat_minor": 2
}
