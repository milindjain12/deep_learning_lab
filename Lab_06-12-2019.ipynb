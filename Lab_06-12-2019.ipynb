{
 "cells": [
  {
   "cell_type": "code",
   "execution_count": 1,
   "metadata": {},
   "outputs": [
    {
     "ename": "SyntaxError",
     "evalue": "invalid syntax (<ipython-input-1-1698ac680b4b>, line 2)",
     "output_type": "error",
     "traceback": [
      "\u001b[1;36m  File \u001b[1;32m\"<ipython-input-1-1698ac680b4b>\"\u001b[1;36m, line \u001b[1;32m2\u001b[0m\n\u001b[1;33m    passage = \"William Shakespeare (bapt. 26 April 1564 – 23 April 1616)[a] was an English poet, playwright, and actor, widely regarded as the greatest writer in the English language and the world's greatest dramatist.[2][3][4] He is often called England's national poet and the \"Bard of Avon\" (or simply \"the Bard\").[5][b] His extant works, including collaborations, consist of some 39 plays,[c] 154 sonnets, two long narrative poems, and a few other verses, some of uncertain authorship. His plays have been translated into every major living language and are performed more often than those of any other playwright.[7]\"\u001b[0m\n\u001b[1;37m                                                                                                                                                                                                                                                                                           ^\u001b[0m\n\u001b[1;31mSyntaxError\u001b[0m\u001b[1;31m:\u001b[0m invalid syntax\n"
     ]
    }
   ],
   "source": [
    "## 6/12/2019 \n",
    "passage = \"William Shakespeare (bapt. 26 April 1564 – 23 April 1616)[a] was an English poet, playwright, and actor, widely regarded as the greatest writer in the English language and the world's greatest dramatist.[2][3][4] He is often called England's national poet and the \"Bard of Avon\" (or simply \"the Bard\").[5][b] His extant works, including collaborations, consist of some 39 plays,[c] 154 sonnets, two long narrative poems, and a few other verses, some of uncertain authorship. His plays have been translated into every major living language and are performed more often than those of any other playwright.[7]\"\n",
    "print(passage)"
   ]
  },
  {
   "cell_type": "code",
   "execution_count": 2,
   "metadata": {},
   "outputs": [
    {
     "name": "stdout",
     "output_type": "stream",
     "text": [
      "William Shakespeare (bapt. 26 April 1564 – 23 April 1616)[a] was an English poet, playwright, and actor, widely regarded as the greatest writer in the English language and the world's greatest dramatist.[2][3][4] He is often called England's national poet and the \"Bard of Avon\" (or simply \"the Bard\").[5][b] His extant works, including collaborations, consist of some 39 plays,[c] 154 sonnets, two long narrative poems, and a few other verses, some of uncertain authorship. His plays have been translated into every major living language and are performed more often than those of any other playwright.[7]\n"
     ]
    }
   ],
   "source": [
    "## 06/12/19 (Solution to above cell)\n",
    "passage = '''William Shakespeare (bapt. 26 April 1564 – 23 April 1616)[a] was an English poet, playwright, and actor, widely regarded as the greatest writer in the English language and the world's greatest dramatist.[2][3][4] He is often called England's national poet and the \"Bard of Avon\" (or simply \"the Bard\").[5][b] His extant works, including collaborations, consist of some 39 plays,[c] 154 sonnets, two long narrative poems, and a few other verses, some of uncertain authorship. His plays have been translated into every major living language and are performed more often than those of any other playwright.[7]'''\n",
    "print(passage)"
   ]
  },
  {
   "cell_type": "code",
   "execution_count": 3,
   "metadata": {},
   "outputs": [
    {
     "ename": "SyntaxError",
     "evalue": "invalid syntax (<ipython-input-3-6dd4f0ba5b7a>, line 3)",
     "output_type": "error",
     "traceback": [
      "\u001b[1;36m  File \u001b[1;32m\"<ipython-input-3-6dd4f0ba5b7a>\"\u001b[1;36m, line \u001b[1;32m3\u001b[0m\n\u001b[1;33m    M='Shakespere did't gave the best theatrics to the world.'\u001b[0m\n\u001b[1;37m                      ^\u001b[0m\n\u001b[1;31mSyntaxError\u001b[0m\u001b[1;31m:\u001b[0m invalid syntax\n"
     ]
    }
   ],
   "source": [
    "## Using '' for string having apostrophe\n",
    "## Gives Error\n",
    "M='Shakespere did't gave the best theatrics to the world.'\n",
    "print(M)"
   ]
  },
  {
   "cell_type": "code",
   "execution_count": 4,
   "metadata": {},
   "outputs": [
    {
     "name": "stdout",
     "output_type": "stream",
     "text": [
      "Shakespere didn't gave the best theatrics to the world.\n"
     ]
    }
   ],
   "source": [
    "## Now using \"\" for string having apostrophe\n",
    "## Works perfectly\n",
    "M=\"Shakespere didn't gave the best theatrics to the world.\"\n",
    "print(M)"
   ]
  },
  {
   "cell_type": "code",
   "execution_count": 6,
   "metadata": {},
   "outputs": [
    {
     "name": "stdout",
     "output_type": "stream",
     "text": [
      "['London', 'Amsterdam', 'Paris', 'Prague', 'Vienna', 'Venice', 'Glasgow', 'Zurich', 'Tuscany', 'Milan']\n"
     ]
    }
   ],
   "source": [
    "## Lists\n",
    "## Visiting 10 Cities of Europe since I won a lottery of $2 million\n",
    "\n",
    "cities = ['London','Amsterdam','Paris','Prague','Vienna','Venice','Glasgow','Zurich','Tuscany','Milan']\n",
    "print(cities)"
   ]
  },
  {
   "cell_type": "code",
   "execution_count": 7,
   "metadata": {},
   "outputs": [
    {
     "name": "stdout",
     "output_type": "stream",
     "text": [
      "['London', 'Amsterdam', 'Paris', 'Prague', 'Vienna', 'Venice', 'Glasgow', 'Zurich', 'Tuscany', 'Milan', 'Rome']\n"
     ]
    }
   ],
   "source": [
    "## Lists\n",
    "## Visiting 10 Cities of Europe since I won a lottery of $2 million\n",
    "## Mutable\n",
    "\n",
    "cities.append('Rome')\n",
    "print(cities)"
   ]
  },
  {
   "cell_type": "code",
   "execution_count": 8,
   "metadata": {},
   "outputs": [
    {
     "name": "stdout",
     "output_type": "stream",
     "text": [
      "['London', 'Amsterdam', 'Paris', 'Prague', 'Vienna', 'Venice', 'Glasgow', 'Zurich', 'Tuscany', 'Rome']\n"
     ]
    }
   ],
   "source": [
    "## Lists\n",
    "## Element Deletion\n",
    "del cities[9]\n",
    "print(cities)"
   ]
  },
  {
   "cell_type": "code",
   "execution_count": 7,
   "metadata": {},
   "outputs": [
    {
     "name": "stdout",
     "output_type": "stream",
     "text": [
      "('London', 'Amsterdam', 'Paris', 'Prague', 'Vienna', 'Venice', 'Glasgow', 'Zurich', 'Tuscany', 'Milan')\n"
     ]
    }
   ],
   "source": [
    "## Tuple\n",
    "## Immutable\n",
    "\n",
    "cities_tuple = ('London','Amsterdam','Paris','Prague','Vienna','Venice','Glasgow','Zurich','Tuscany','Milan')\n",
    "print(cities_tuple)"
   ]
  },
  {
   "cell_type": "code",
   "execution_count": 8,
   "metadata": {},
   "outputs": [
    {
     "name": "stdout",
     "output_type": "stream",
     "text": [
      "{'Cricket': 'Harmanpreet Kaur', 'Shooting': 'Abhinav Bindra', 'Boxing': 'Yogender Dutta', 'Billards': 'Nikhil Advani', 'Football': 'Sunil Chhetri'}\n"
     ]
    }
   ],
   "source": [
    "## Dictionaries\n",
    "## Key Value Pairs\n",
    "## Sports Personalities : Sport\n",
    "\n",
    "sport_dic = {'Cricket':'Harmanpreet Kaur', 'Shooting':'Abhinav Bindra', 'Boxing':'Yogender Dutta', 'Billards':'Nikhil Advani', 'Football':'Sunil Chhetri'}\n",
    "print(sport_dic)"
   ]
  },
  {
   "cell_type": "markdown",
   "metadata": {},
   "source": [
    "<h1>Observations</h1>\n",
    "<h3>1. Display of String in Python</h3>\n",
    "<ul>\n",
    "    <li>\"\" or  '' can be used to enclose a string in python</li>\n",
    "    <li>''' ''' or \"\"\" \"\"\" can be used to enclose big paragraphs</li>\n",
    "    <li>\"\" is used to enclose a string if a it contains apostrophe somewhere in string since '' will give error</li> \n",
    "</ul>\n",
    "<br>\n",
    "<h3>2. Playing With Data</h3>\n",
    "<ol>\n",
    "    <li>\n",
    "        <b>Lists</b>\n",
    "        <ul>\n",
    "            <li>Data structure to store comma seperated values</li>\n",
    "            <li>Enclosed in [] brackets</li>\n",
    "            <li>Values can be of mixed data types</li>\n",
    "            <li>Mutable i.e. values can be added as when needed after creation using append method</li>\n",
    "            <li>Random element of list can be accessed using index just like arrays in c, c++ or java</li>\n",
    "        </ul>\n",
    "    </li>\n",
    "    <li>\n",
    "        <b>Tuple</b>\n",
    "        <ul>\n",
    "            <li>Similar to Lists but immutable i.e. new values can not be added</li>\n",
    "            <li>Enclosed in () brackets</li>\n",
    "        </ul>\n",
    "    </li>\n",
    "    <li>\n",
    "        <b>Dictionary</b>\n",
    "        <ul>\n",
    "            <li>Comma seperated Key: Value pairs</li>\n",
    "            <li>Various predefined methods to access keys and values seperately</li>\n",
    "            <li>Random access using key can be done</li>\n",
    "        </ul>\n",
    "    </li>\n",
    "</ol>"
   ]
  }
 ],
 "metadata": {
  "kernelspec": {
   "display_name": "Python 3",
   "language": "python",
   "name": "python3"
  },
  "language_info": {
   "codemirror_mode": {
    "name": "ipython",
    "version": 3
   },
   "file_extension": ".py",
   "mimetype": "text/x-python",
   "name": "python",
   "nbconvert_exporter": "python",
   "pygments_lexer": "ipython3",
   "version": "3.7.3"
  }
 },
 "nbformat": 4,
 "nbformat_minor": 2
}
